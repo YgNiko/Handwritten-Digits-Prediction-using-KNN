{
 "cells": [
  {
   "cell_type": "markdown",
   "id": "5e2bcd5f",
   "metadata": {},
   "source": [
    "# Understanding K-Nearest Neighbors Classifier"
   ]
  },
  {
   "cell_type": "markdown",
   "id": "405dc796",
   "metadata": {},
   "source": [
    "We use Scikit-learn to fit, predict, and find the accuarcy of our classifier. \n",
    "We will use MNIST dataset, which has 10 classes, the digits 0 through 9. A reduced version of the MNIST dataset is one of scikit-learn's included datasets. We use use that in this classifier. \n",
    "This is an implementable execution based on what i learned from datacamp course."
   ]
  },
  {
   "cell_type": "code",
   "execution_count": 1,
   "id": "f24d4af1",
   "metadata": {},
   "outputs": [],
   "source": [
    "#Importing necessary modules\n",
    "import numpy as np\n",
    "from sklearn import datasets\n",
    "from sklearn.neighbors import KNeighborsClassifier\n",
    "from sklearn.model_selection import train_test_split\n",
    "import matplotlib.pyplot as plt"
   ]
  },
  {
   "cell_type": "code",
   "execution_count": 2,
   "id": "81e95805",
   "metadata": {},
   "outputs": [],
   "source": [
    "# Load the digits dataset: digits\n",
    "digits = datasets.load_digits()"
   ]
  },
  {
   "cell_type": "markdown",
   "id": "d45a421d",
   "metadata": {},
   "source": [
    "DATA VISUALIZATION "
   ]
  },
  {
   "cell_type": "code",
   "execution_count": 3,
   "id": "850cf02e",
   "metadata": {},
   "outputs": [
    {
     "name": "stdout",
     "output_type": "stream",
     "text": [
      "dict_keys(['data', 'target', 'frame', 'feature_names', 'target_names', 'images', 'DESCR'])\n",
      ".. _digits_dataset:\n",
      "\n",
      "Optical recognition of handwritten digits dataset\n",
      "--------------------------------------------------\n",
      "\n",
      "**Data Set Characteristics:**\n",
      "\n",
      "    :Number of Instances: 1797\n",
      "    :Number of Attributes: 64\n",
      "    :Attribute Information: 8x8 image of integer pixels in the range 0..16.\n",
      "    :Missing Attribute Values: None\n",
      "    :Creator: E. Alpaydin (alpaydin '@' boun.edu.tr)\n",
      "    :Date: July; 1998\n",
      "\n",
      "This is a copy of the test set of the UCI ML hand-written digits datasets\n",
      "https://archive.ics.uci.edu/ml/datasets/Optical+Recognition+of+Handwritten+Digits\n",
      "\n",
      "The data set contains images of hand-written digits: 10 classes where\n",
      "each class refers to a digit.\n",
      "\n",
      "Preprocessing programs made available by NIST were used to extract\n",
      "normalized bitmaps of handwritten digits from a preprinted form. From a\n",
      "total of 43 people, 30 contributed to the training set and different 13\n",
      "to the test set. 32x32 bitmaps are divided into nonoverlapping blocks of\n",
      "4x4 and the number of on pixels are counted in each block. This generates\n",
      "an input matrix of 8x8 where each element is an integer in the range\n",
      "0..16. This reduces dimensionality and gives invariance to small\n",
      "distortions.\n",
      "\n",
      "For info on NIST preprocessing routines, see M. D. Garris, J. L. Blue, G.\n",
      "T. Candela, D. L. Dimmick, J. Geist, P. J. Grother, S. A. Janet, and C.\n",
      "L. Wilson, NIST Form-Based Handprint Recognition System, NISTIR 5469,\n",
      "1994.\n",
      "\n",
      ".. topic:: References\n",
      "\n",
      "  - C. Kaynak (1995) Methods of Combining Multiple Classifiers and Their\n",
      "    Applications to Handwritten Digit Recognition, MSc Thesis, Institute of\n",
      "    Graduate Studies in Science and Engineering, Bogazici University.\n",
      "  - E. Alpaydin, C. Kaynak (1998) Cascading Classifiers, Kybernetika.\n",
      "  - Ken Tang and Ponnuthurai N. Suganthan and Xi Yao and A. Kai Qin.\n",
      "    Linear dimensionalityreduction using relevance weighted LDA. School of\n",
      "    Electrical and Electronic Engineering Nanyang Technological University.\n",
      "    2005.\n",
      "  - Claudio Gentile. A New Approximate Maximal Margin Classification\n",
      "    Algorithm. NIPS. 2000.\n",
      "\n"
     ]
    }
   ],
   "source": [
    "# Print the keys and DESCR of the dataset\n",
    "print(digits.keys())\n",
    "print(digits.DESCR)"
   ]
  },
  {
   "cell_type": "code",
   "execution_count": 4,
   "id": "a0a7e2d8",
   "metadata": {},
   "outputs": [
    {
     "name": "stdout",
     "output_type": "stream",
     "text": [
      "(1797, 8, 8)\n",
      "(1797, 64)\n"
     ]
    }
   ],
   "source": [
    "# Print the shape of the images and data keys\n",
    "print(digits.images.shape)\n",
    "print(digits.data.shape)"
   ]
  },
  {
   "cell_type": "code",
   "execution_count": 5,
   "id": "c3e38d64",
   "metadata": {},
   "outputs": [
    {
     "data": {
      "image/png": "[encoded data removed]",
      "text/plain": [
       "<Figure size 432x288 with 1 Axes>"
      ]
     },
     "metadata": {
      "needs_background": "light"
     },
     "output_type": "display_data"
    }
   ],
   "source": [
    "# Display digit 999\n",
    "plt.imshow(digits.images[999], cmap=plt.cm.gray_r, interpolation='nearest')\n",
    "plt.show()"
   ]
  },
  {
   "cell_type": "markdown",
   "id": "3744e45d",
   "metadata": {},
   "source": [
    "Implementation: Train/Test split + Fit/Predict/Accuracy"
   ]
  },
  {
   "cell_type": "code",
   "execution_count": 6,
   "id": "2be179e8",
   "metadata": {},
   "outputs": [],
   "source": [
    "# Create feature and target arrays\n",
    "X = np.array(digits.data)\n",
    "y = np.array(digits.target)"
   ]
  },
  {
   "cell_type": "code",
   "execution_count": 7,
   "id": "30a53ceb",
   "metadata": {},
   "outputs": [],
   "source": [
    "# Split into training and test set\n",
    "X_train, X_test, y_train, y_test = train_test_split(X, y, test_size = 0.3, random_state=36, stratify=y)"
   ]
  },
  {
   "cell_type": "code",
   "execution_count": 8,
   "id": "7965442c",
   "metadata": {},
   "outputs": [],
   "source": [
    "# Create a k-NN classifier with 6 neighbors: knn\n",
    "knn = KNeighborsClassifier(n_neighbors=6)"
   ]
  },
  {
   "cell_type": "code",
   "execution_count": 9,
   "id": "ca92959f",
   "metadata": {},
   "outputs": [
    {
     "data": {
      "text/plain": [
       "KNeighborsClassifier(n_neighbors=6)"
      ]
     },
     "execution_count": 9,
     "metadata": {},
     "output_type": "execute_result"
    }
   ],
   "source": [
    "# Fit the classifier to the training data\n",
    "knn.fit(X_train, y_train)"
   ]
  },
  {
   "cell_type": "code",
   "execution_count": 10,
   "id": "573d6ee7",
   "metadata": {},
   "outputs": [],
   "source": [
    "# Predict the labels for the training data X_test\n",
    "y_pred = knn.predict(X_test)"
   ]
  },
  {
   "cell_type": "code",
   "execution_count": 11,
   "id": "8b373dc7",
   "metadata": {},
   "outputs": [
    {
     "name": "stdout",
     "output_type": "stream",
     "text": [
      "Prediction: [8 3 8 8 2 1 1 8 0 5 9 1 7 1 9 6 9 7 9 3 7 2 8 3 7 2 0 7 6 5 5 9 5 5 9 5 5\n",
      " 3 7 6 8 3 0 7 7 1 4 8 8 0 0 8 7 6 2 1 5 3 3 4 1 5 6 5 4 5 9 5 6 4 9 2 5 3\n",
      " 3 6 5 6 8 3 2 2 6 9 6 0 4 4 1 8 7 1 4 5 3 3 7 1 0 2 1 2 1 4 9 5 6 4 1 9 0\n",
      " 1 5 3 4 1 3 7 4 2 6 2 5 3 5 1 6 1 0 6 6 3 1 9 0 3 5 4 9 3 1 8 2 7 8 8 2 2\n",
      " 0 1 0 6 7 4 4 0 1 9 9 1 7 5 1 3 5 0 5 8 0 2 6 2 1 4 1 0 6 1 3 9 5 4 8 0 3\n",
      " 4 9 2 3 1 3 4 3 9 9 8 2 5 9 6 1 5 0 8 7 3 5 1 1 1 5 0 2 5 0 9 6 2 5 2 6 7\n",
      " 9 2 6 3 8 3 2 8 9 8 8 3 4 3 2 5 7 1 5 4 8 7 1 0 3 7 7 7 4 7 7 7 7 0 7 8 6\n",
      " 7 7 6 6 9 8 6 1 8 8 0 8 9 1 3 7 9 9 9 8 1 9 6 9 5 8 5 9 6 6 0 2 3 0 8 6 7\n",
      " 9 6 1 5 1 1 9 0 7 7 0 5 1 2 5 0 2 1 6 0 2 0 4 6 6 5 3 6 3 3 3 0 1 7 8 3 9\n",
      " 2 0 0 8 0 0 5 4 2 2 7 0 0 7 5 3 4 4 0 8 2 9 7 8 3 4 0 6 8 6 7 0 7 4 8 6 3\n",
      " 7 7 9 4 6 8 8 9 3 6 9 4 2 1 7 3 4 9 3 4 0 4 9 7 8 1 9 6 6 1 3 9 2 7 9 4 1\n",
      " 3 9 9 9 7 6 7 5 4 3 7 4 6 1 6 7 4 4 2 2 6 7 3 6 6 9 4 8 0 5 7 9 8 7 4 0 0\n",
      " 9 4 4 0 4 2 2 4 2 5 0 0 8 3 3 5 9 5 2 4 6 0 2 4 3 2 4 5 1 6 3 0 1 3 1 6 7\n",
      " 1 7 2 3 8 2 0 8 8 3 2 9 4 4 2 2 9 8 6 5 8 1 4 8 2 6 5 2 8 7 1 5 6 6 1 4 8\n",
      " 3 5 2 5 0 5 3 2 4 2 4 0 4 0 1 2 0 7 3 1 7 5]\n"
     ]
    }
   ],
   "source": [
    "# Print the predicted labels for the data points X_test\n",
    "print(\"Prediction: {}\".format(y_pred))"
   ]
  },
  {
   "cell_type": "code",
   "execution_count": 12,
   "id": "5350b7ac",
   "metadata": {},
   "outputs": [
    {
     "name": "stdout",
     "output_type": "stream",
     "text": [
      "0.9851851851851852\n"
     ]
    }
   ],
   "source": [
    "# Print the accuracy\n",
    "print(knn.score(X_test, y_test))"
   ]
  },
  {
   "cell_type": "markdown",
   "id": "10997afe",
   "metadata": {},
   "source": [
    "Accuracy of 98.51% is achieved."
   ]
  },
  {
   "cell_type": "code",
   "execution_count": null,
   "id": "33709f88",
   "metadata": {},
   "outputs": [],
   "source": []
  }
 ],
 "metadata": {
  "kernelspec": {
   "display_name": "Python 3",
   "language": "python",
   "name": "python3"
  },
  "language_info": {
   "codemirror_mode": {
    "name": "ipython",
    "version": 3
   },
   "file_extension": ".py",
   "mimetype": "text/x-python",
   "name": "python",
   "nbconvert_exporter": "python",
   "pygments_lexer": "ipython3",
   "version": "3.8.8"
  }
 },
 "nbformat": 4,
 "nbformat_minor": 5
}
